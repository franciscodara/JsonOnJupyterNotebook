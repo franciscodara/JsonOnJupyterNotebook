{
 "cells": [
  {
   "cell_type": "markdown",
   "metadata": {},
   "source": [
    "# Parse `Extremely Nested JSON` with Python: (Tweets)\n",
    "\n",
    "\n",
    "# **<font color=red>Mr Fugu Data Science</font>**\n",
    "\n",
    "\n",
    "# (◕‿◕✿)\n",
    "\n",
    "[Github](https://github.com/MrFuguDataScience)\n",
    "[Youtube](https://www.youtube.com/channel/UCbni-TDI-Ub8VlGaP8HLTNw?view_as=subscriber)\n",
    "\n",
    "# Purpose & Outcome:\n",
    "\n",
    "+ Evaluate Highly Nested Nighmare\n",
    "    + Use Recursion\n",
    "+ Create indexes to track nested keys\n",
    "    + keep all keys (outer & inner) separated by (.) to know lineage\n",
    "+ Create key:value pairs \n",
    "\n",
    "+ start putting back together for a dataframe"
   ]
  },
  {
   "cell_type": "code",
   "execution_count": 1,
   "metadata": {},
   "outputs": [],
   "source": [
    "import pandas as pd\n",
    "import collections as cc # for default dictionary"
   ]
  },
  {
   "cell_type": "code",
   "execution_count": 2,
   "metadata": {},
   "outputs": [
    {
     "data": {
      "text/html": [
       "<div>\n",
       "<style scoped>\n",
       "    .dataframe tbody tr th:only-of-type {\n",
       "        vertical-align: middle;\n",
       "    }\n",
       "\n",
       "    .dataframe tbody tr th {\n",
       "        vertical-align: top;\n",
       "    }\n",
       "\n",
       "    .dataframe thead th {\n",
       "        text-align: right;\n",
       "    }\n",
       "</style>\n",
       "<table border=\"1\" class=\"dataframe\">\n",
       "  <thead>\n",
       "    <tr style=\"text-align: right;\">\n",
       "      <th></th>\n",
       "      <th>created_at</th>\n",
       "      <th>id</th>\n",
       "      <th>id_str</th>\n",
       "      <th>text</th>\n",
       "      <th>truncated</th>\n",
       "      <th>entities</th>\n",
       "      <th>metadata</th>\n",
       "      <th>source</th>\n",
       "      <th>in_reply_to_status_id</th>\n",
       "      <th>in_reply_to_status_id_str</th>\n",
       "      <th>...</th>\n",
       "      <th>favorite_count</th>\n",
       "      <th>favorited</th>\n",
       "      <th>retweeted</th>\n",
       "      <th>lang</th>\n",
       "      <th>retweeted_status</th>\n",
       "      <th>quoted_status_id</th>\n",
       "      <th>quoted_status_id_str</th>\n",
       "      <th>possibly_sensitive</th>\n",
       "      <th>extended_entities</th>\n",
       "      <th>quoted_status</th>\n",
       "    </tr>\n",
       "  </thead>\n",
       "  <tbody>\n",
       "    <tr>\n",
       "      <th>0</th>\n",
       "      <td>2020-07-13 01:29:34+00:00</td>\n",
       "      <td>1282487300362956800</td>\n",
       "      <td>1282487300362956800</td>\n",
       "      <td>Gonna be wild to watch all the people engaging...</td>\n",
       "      <td>True</td>\n",
       "      <td>{'hashtags': [], 'symbols': [], 'user_mentions...</td>\n",
       "      <td>{'iso_language_code': 'en', 'result_type': 're...</td>\n",
       "      <td>&lt;a href=\"http://twitter.com/download/iphone\" r...</td>\n",
       "      <td>NaN</td>\n",
       "      <td>NaN</td>\n",
       "      <td>...</td>\n",
       "      <td>0</td>\n",
       "      <td>False</td>\n",
       "      <td>False</td>\n",
       "      <td>en</td>\n",
       "      <td>NaN</td>\n",
       "      <td>NaN</td>\n",
       "      <td>NaN</td>\n",
       "      <td>NaN</td>\n",
       "      <td>NaN</td>\n",
       "      <td>NaN</td>\n",
       "    </tr>\n",
       "    <tr>\n",
       "      <th>1</th>\n",
       "      <td>2020-07-13 01:29:17+00:00</td>\n",
       "      <td>1282487227746938881</td>\n",
       "      <td>1282487227746938880</td>\n",
       "      <td>RT @lamphieryeg: Indigenous rights. LGBTQ. Rac...</td>\n",
       "      <td>False</td>\n",
       "      <td>{'hashtags': [], 'symbols': [], 'user_mentions...</td>\n",
       "      <td>{'iso_language_code': 'fr', 'result_type': 're...</td>\n",
       "      <td>&lt;a href=\"http://twitter.com/download/iphone\" r...</td>\n",
       "      <td>NaN</td>\n",
       "      <td>NaN</td>\n",
       "      <td>...</td>\n",
       "      <td>0</td>\n",
       "      <td>False</td>\n",
       "      <td>False</td>\n",
       "      <td>fr</td>\n",
       "      <td>{'created_at': 'Mon Jul 13 01:20:23 +0000 2020...</td>\n",
       "      <td>1.282484e+18</td>\n",
       "      <td>1.282484e+18</td>\n",
       "      <td>NaN</td>\n",
       "      <td>NaN</td>\n",
       "      <td>NaN</td>\n",
       "    </tr>\n",
       "    <tr>\n",
       "      <th>2</th>\n",
       "      <td>2020-07-13 01:29:05+00:00</td>\n",
       "      <td>1282487179814543360</td>\n",
       "      <td>1282487179814543360</td>\n",
       "      <td>As global economies are faced with the effects...</td>\n",
       "      <td>True</td>\n",
       "      <td>{'hashtags': [], 'symbols': [], 'user_mentions...</td>\n",
       "      <td>{'iso_language_code': 'en', 'result_type': 're...</td>\n",
       "      <td>&lt;a href=\"https://ifttt.com\" rel=\"nofollow\"&gt;IFT...</td>\n",
       "      <td>NaN</td>\n",
       "      <td>NaN</td>\n",
       "      <td>...</td>\n",
       "      <td>0</td>\n",
       "      <td>False</td>\n",
       "      <td>False</td>\n",
       "      <td>en</td>\n",
       "      <td>NaN</td>\n",
       "      <td>NaN</td>\n",
       "      <td>NaN</td>\n",
       "      <td>0.0</td>\n",
       "      <td>NaN</td>\n",
       "      <td>NaN</td>\n",
       "    </tr>\n",
       "    <tr>\n",
       "      <th>3</th>\n",
       "      <td>2020-07-13 01:29:03+00:00</td>\n",
       "      <td>1282487169215541249</td>\n",
       "      <td>1282487169215541248</td>\n",
       "      <td>@tcoreagain @john_kilford @RobRobbEdwards the ...</td>\n",
       "      <td>True</td>\n",
       "      <td>{'hashtags': [], 'symbols': [], 'user_mentions...</td>\n",
       "      <td>{'iso_language_code': 'en', 'result_type': 're...</td>\n",
       "      <td>&lt;a href=\"https://mobile.twitter.com\" rel=\"nofo...</td>\n",
       "      <td>1.282430e+18</td>\n",
       "      <td>1.282430e+18</td>\n",
       "      <td>...</td>\n",
       "      <td>0</td>\n",
       "      <td>False</td>\n",
       "      <td>False</td>\n",
       "      <td>en</td>\n",
       "      <td>NaN</td>\n",
       "      <td>NaN</td>\n",
       "      <td>NaN</td>\n",
       "      <td>NaN</td>\n",
       "      <td>NaN</td>\n",
       "      <td>NaN</td>\n",
       "    </tr>\n",
       "    <tr>\n",
       "      <th>4</th>\n",
       "      <td>2020-07-13 01:29:02+00:00</td>\n",
       "      <td>1282487164392165376</td>\n",
       "      <td>1282487164392165376</td>\n",
       "      <td>RT @NickKristof: As we scrutinize history and ...</td>\n",
       "      <td>False</td>\n",
       "      <td>{'hashtags': [], 'symbols': [], 'user_mentions...</td>\n",
       "      <td>{'iso_language_code': 'en', 'result_type': 're...</td>\n",
       "      <td>&lt;a href=\"http://twitter.com/download/android\" ...</td>\n",
       "      <td>NaN</td>\n",
       "      <td>NaN</td>\n",
       "      <td>...</td>\n",
       "      <td>0</td>\n",
       "      <td>False</td>\n",
       "      <td>False</td>\n",
       "      <td>en</td>\n",
       "      <td>{'created_at': 'Sat Jul 11 18:55:25 +0000 2020...</td>\n",
       "      <td>NaN</td>\n",
       "      <td>NaN</td>\n",
       "      <td>NaN</td>\n",
       "      <td>NaN</td>\n",
       "      <td>NaN</td>\n",
       "    </tr>\n",
       "  </tbody>\n",
       "</table>\n",
       "<p>5 rows × 30 columns</p>\n",
       "</div>"
      ],
      "text/plain": [
       "                 created_at                   id               id_str  \\\n",
       "0 2020-07-13 01:29:34+00:00  1282487300362956800  1282487300362956800   \n",
       "1 2020-07-13 01:29:17+00:00  1282487227746938881  1282487227746938880   \n",
       "2 2020-07-13 01:29:05+00:00  1282487179814543360  1282487179814543360   \n",
       "3 2020-07-13 01:29:03+00:00  1282487169215541249  1282487169215541248   \n",
       "4 2020-07-13 01:29:02+00:00  1282487164392165376  1282487164392165376   \n",
       "\n",
       "                                                text  truncated  \\\n",
       "0  Gonna be wild to watch all the people engaging...       True   \n",
       "1  RT @lamphieryeg: Indigenous rights. LGBTQ. Rac...      False   \n",
       "2  As global economies are faced with the effects...       True   \n",
       "3  @tcoreagain @john_kilford @RobRobbEdwards the ...       True   \n",
       "4  RT @NickKristof: As we scrutinize history and ...      False   \n",
       "\n",
       "                                            entities  \\\n",
       "0  {'hashtags': [], 'symbols': [], 'user_mentions...   \n",
       "1  {'hashtags': [], 'symbols': [], 'user_mentions...   \n",
       "2  {'hashtags': [], 'symbols': [], 'user_mentions...   \n",
       "3  {'hashtags': [], 'symbols': [], 'user_mentions...   \n",
       "4  {'hashtags': [], 'symbols': [], 'user_mentions...   \n",
       "\n",
       "                                            metadata  \\\n",
       "0  {'iso_language_code': 'en', 'result_type': 're...   \n",
       "1  {'iso_language_code': 'fr', 'result_type': 're...   \n",
       "2  {'iso_language_code': 'en', 'result_type': 're...   \n",
       "3  {'iso_language_code': 'en', 'result_type': 're...   \n",
       "4  {'iso_language_code': 'en', 'result_type': 're...   \n",
       "\n",
       "                                              source  in_reply_to_status_id  \\\n",
       "0  <a href=\"http://twitter.com/download/iphone\" r...                    NaN   \n",
       "1  <a href=\"http://twitter.com/download/iphone\" r...                    NaN   \n",
       "2  <a href=\"https://ifttt.com\" rel=\"nofollow\">IFT...                    NaN   \n",
       "3  <a href=\"https://mobile.twitter.com\" rel=\"nofo...           1.282430e+18   \n",
       "4  <a href=\"http://twitter.com/download/android\" ...                    NaN   \n",
       "\n",
       "   in_reply_to_status_id_str  ...  favorite_count  favorited retweeted lang  \\\n",
       "0                        NaN  ...               0      False     False   en   \n",
       "1                        NaN  ...               0      False     False   fr   \n",
       "2                        NaN  ...               0      False     False   en   \n",
       "3               1.282430e+18  ...               0      False     False   en   \n",
       "4                        NaN  ...               0      False     False   en   \n",
       "\n",
       "                                    retweeted_status  quoted_status_id  \\\n",
       "0                                                NaN               NaN   \n",
       "1  {'created_at': 'Mon Jul 13 01:20:23 +0000 2020...      1.282484e+18   \n",
       "2                                                NaN               NaN   \n",
       "3                                                NaN               NaN   \n",
       "4  {'created_at': 'Sat Jul 11 18:55:25 +0000 2020...               NaN   \n",
       "\n",
       "   quoted_status_id_str  possibly_sensitive  extended_entities  quoted_status  \n",
       "0                   NaN                 NaN                NaN            NaN  \n",
       "1          1.282484e+18                 NaN                NaN            NaN  \n",
       "2                   NaN                 0.0                NaN            NaN  \n",
       "3                   NaN                 NaN                NaN            NaN  \n",
       "4                   NaN                 NaN                NaN            NaN  \n",
       "\n",
       "[5 rows x 30 columns]"
      ]
     },
     "execution_count": 2,
     "metadata": {},
     "output_type": "execute_result"
    }
   ],
   "source": [
    "json_tweets=pd.read_json('tweets04.json')\n",
    "json_tweets.head()\n",
    "# json_tweets.iloc[10,:]"
   ]
  },
  {
   "cell_type": "code",
   "execution_count": 3,
   "metadata": {},
   "outputs": [],
   "source": [
    "\n",
    "dct=[]\n",
    "for i in json_tweets.loc[:,'retweeted_status']:\n",
    "    if str(i) == 'nan':\n",
    "        dct.append(['Nothing_retweeted'])\n",
    "    else:\n",
    "        dct.append([i])\n",
    "            \n",
    "# dct[:2]\n",
    "# type(json_tweets.loc[:,'retweeted_status'][0])"
   ]
  },
  {
   "cell_type": "markdown",
   "metadata": {},
   "source": [
    "# Iterate Through Nested Data: (`Recursively`)\n",
    "\n",
    "+ Take `ALL keys` not just most inner or most outer!\n",
    "\n",
    "+ Creating Index labels for all key-value pairs\n",
    "\n",
    "+ Using Dot notation for the keys to distinguish how they are nested\n",
    "\n",
    "+ If an entry is `NOT retweeted`: it will get labeled with a string denoting that"
   ]
  },
  {
   "cell_type": "code",
   "execution_count": 4,
   "metadata": {},
   "outputs": [
    {
     "data": {
      "text/plain": [
       "7026"
      ]
     },
     "execution_count": 4,
     "metadata": {},
     "output_type": "execute_result"
    }
   ],
   "source": [
    "g=[]\n",
    "def print_dict(v, prefix=''): \n",
    "    if isinstance(v, dict):\n",
    "        for k, v2 in v.items():\n",
    "            p2 = \"{}.{}\".format(prefix, k)\n",
    "            print_dict(v2, p2)           # recursive call\n",
    "    elif isinstance(v, list):\n",
    "        for i, v2 in enumerate(v):\n",
    "            p2 = \"{}{}\".format(prefix, i)\n",
    "            print_dict(v2, p2)           # recursive call\n",
    "    else:\n",
    "#         g.append('{} : {}'.format(prefix, repr(v)))\n",
    "        g.append(['{}'.format(prefix),v])\n",
    "    \n",
    "    return g  \n",
    "print_dict(dct)\n",
    "\n",
    "len(print_dict(dct))\n",
    "# len(dct)"
   ]
  },
  {
   "cell_type": "markdown",
   "metadata": {},
   "source": [
    "# Separate the Index Numbers from Key:\n",
    "\n",
    "+ If the Index doesn't have a second string, then it was `not retweeted` as you see for `['00']` "
   ]
  },
  {
   "cell_type": "code",
   "execution_count": 5,
   "metadata": {},
   "outputs": [
    {
     "name": "stdout",
     "output_type": "stream",
     "text": [
      "Index with Key: [['00'], ['10', 'created_at'], ['10', 'id'], ['10', 'id_str']]\n",
      "--------------------------\n",
      "Index with Values: [('00', 'Nothing_retweeted'), ('10', 'Mon Jul 13 01:20:23 +0000 2020'), ('10', 1282484990459080705), ('10', '1282484990459080705')]\n"
     ]
    }
   ],
   "source": [
    "def find_idx_keys_or_vals(dct):\n",
    "    idx_keys=[]\n",
    "    idx_vals=[]\n",
    "\n",
    "    for j in print_dict(dct):\n",
    "        idx_keys.append(j[0].split(\".\",1)) # split on first occurance of (.)\n",
    "        idx_vals.append((j[0].split('.')[0],j[1]))\n",
    "    \n",
    "    return idx_keys,idx_vals\n",
    "\n",
    "\n",
    "idx_keys=find_idx_keys_or_vals(dct)[0]\n",
    "\n",
    "\n",
    "idx_vals=find_idx_keys_or_vals(dct)[1]\n",
    "\n",
    "print('Index with Key:',idx_keys[:4])\n",
    "print('--------------------------')\n",
    "print('Index with Values:',idx_vals[:4])"
   ]
  },
  {
   "cell_type": "code",
   "execution_count": 6,
   "metadata": {},
   "outputs": [
    {
     "data": {
      "text/plain": [
       "[('10', ['created_at']),\n",
       " ('10', ['id']),\n",
       " ('10', ['id_str']),\n",
       " ('10', ['text']),\n",
       " ('10', ['truncated'])]"
      ]
     },
     "execution_count": 6,
     "metadata": {},
     "output_type": "execute_result"
    }
   ],
   "source": [
    "# Explain:\n",
    "rr=[]\n",
    "for i in range(len(idx_keys)-1):\n",
    "    if idx_keys[i][0]==idx_keys[i+1][0]:\n",
    "        rr.append((idx_keys[i][0],idx_keys[i][1:]))\n",
    "rr[:5]\n"
   ]
  },
  {
   "cell_type": "code",
   "execution_count": 7,
   "metadata": {},
   "outputs": [],
   "source": [
    "# dd=cc.defaultdict(list)\n",
    "\n",
    "# for i,j in idx_vals:\n",
    "#         dd[i].append(j)\n",
    "    \n",
    "# len(dd.keys())\n",
    "\n",
    "# dd.keys()"
   ]
  },
  {
   "cell_type": "code",
   "execution_count": 8,
   "metadata": {},
   "outputs": [],
   "source": [
    "def dict_lst(idxKey_items):\n",
    "    rr=[]\n",
    "    for i in range(len(idxKey_items)-1):\n",
    "        if idxKey_items[i][0]==idxKey_items[i+1][0]:\n",
    "            rr.append((idxKey_items[i][0],idxKey_items[i][1:]))\n",
    "\n",
    "    d=cc.defaultdict(list)\n",
    "\n",
    "    for i,j in rr:\n",
    "            d[i].extend(j)\n",
    "    return d\n",
    "    \n",
    "idx_keys_sep=dict_lst(idx_keys)\n"
   ]
  },
  {
   "cell_type": "markdown",
   "metadata": {},
   "source": [
    "# Tweets_val_parse:\n",
    "\n",
    "+ first create a dictionary where you have key:[values]\n",
    "\n",
    "+ then iterate through the default dictionary (dd), where we append 2 lists:\n",
    "    + list: (`no_tweet`) will take the index and the no tweet string\n",
    "    + list2: (`tweet_vals `): takes the index again but also the values\n",
    "    \n",
    "+ return both list as arguments 0,1"
   ]
  },
  {
   "cell_type": "code",
   "execution_count": 10,
   "metadata": {},
   "outputs": [
    {
     "data": {
      "text/plain": [
       "{'00': 'Nothing_retweeted',\n",
       " '20': 'Nothing_retweeted',\n",
       " '30': 'Nothing_retweeted',\n",
       " '70': 'Nothing_retweeted',\n",
       " '150': 'Nothing_retweeted',\n",
       " '160': 'Nothing_retweeted',\n",
       " '190': 'Nothing_retweeted',\n",
       " '200': 'Nothing_retweeted',\n",
       " '220': 'Nothing_retweeted',\n",
       " '350': 'Nothing_retweeted',\n",
       " '360': 'Nothing_retweeted',\n",
       " '420': 'Nothing_retweeted',\n",
       " '440': 'Nothing_retweeted'}"
      ]
     },
     "execution_count": 10,
     "metadata": {},
     "output_type": "execute_result"
    }
   ],
   "source": [
    "def tweet_val_parse(idx_vals):\n",
    "    \n",
    "    dd=cc.defaultdict(list)\n",
    "\n",
    "    for i,j in idx_vals:\n",
    "        dd[i].append(j)\n",
    "    \n",
    "    \n",
    "    no_tweet={}\n",
    "    tweet_vals=cc.defaultdict(list)\n",
    "    for i in dd.items():\n",
    "        if 'Nothing_retweeted' in i[1]:\n",
    "#             no_tweet.append((i[0],i[1][0]))\n",
    "            no_tweet[i[0]]=i[1][0]\n",
    "        else:\n",
    "            tweet_vals[i[0]].extend(i[1])\n",
    "\n",
    "    return no_tweet,tweet_vals\n",
    "\n",
    "\n",
    "tweet_val_parse(idx_vals)[0] # index and str('Nothing_retweeted')\n",
    "\n",
    "# tweet_val_parse(idx_vals)[1]['10'] # index and values of retweet"
   ]
  },
  {
   "cell_type": "code",
   "execution_count": 11,
   "metadata": {},
   "outputs": [],
   "source": [
    "# c=[]\n",
    "\n",
    "# for j in tweet_val_parse(idx_vals)[1].items():\n",
    "#     for i in tweet_val_parse(idx_vals)[0].items():\n",
    "#         if i[0] < j[0]:\n",
    "#             c.append(i)\n",
    "          \n",
    "#         else:\n",
    "#             c.append(j)\n",
    "            \n",
    "# c\n",
    "# tweet_val_parse(idx_vals)[0]"
   ]
  },
  {
   "cell_type": "markdown",
   "metadata": {},
   "source": [
    "# If you are considering zip(keys,values), think about it first.\n",
    " \n",
    "+ Look below, the keys and values are not same length and contain hundreds of key:value pairs. You have 2 approaches:\n",
    "    + 1.) Take all unique keys and then decide to zip together\n",
    "    + 2.) you can do each together: but consider doing an iterator due to in memory usage otherwise.\n",
    "    \n",
    "+ Lastly, if you are recreating an extended Data Frame with all new columns then I would say you need to also put the non retweeted data inside of key-value pairs, or consider doing a conditional statement to fill the gaps."
   ]
  },
  {
   "cell_type": "code",
   "execution_count": 12,
   "metadata": {},
   "outputs": [
    {
     "data": {
      "text/plain": [
       "[441, 252, 222]"
      ]
     },
     "execution_count": 12,
     "metadata": {},
     "output_type": "execute_result"
    }
   ],
   "source": [
    "# each retweet has different keys because, of varying factors such as links, \n",
    "# who is reposting etc. \n",
    "\n",
    "idx_keys_sep=dict_lst(idx_keys)\n",
    "\n",
    "\n",
    "key_cnt=[]\n",
    "for i in idx_keys_sep.values():\n",
    "    key_cnt.append(len(i))\n",
    "key_cnt[:3]\n"
   ]
  },
  {
   "cell_type": "markdown",
   "metadata": {},
   "source": [
    "# Proof of Concept: Taking one entry of each and see if it can work"
   ]
  },
  {
   "cell_type": "code",
   "execution_count": 13,
   "metadata": {},
   "outputs": [
    {
     "data": {
      "text/plain": [
       "[('created_at', 'Mon Jul 13 01:20:23 +0000 2020'),\n",
       " ('id', 1282484990459080705),\n",
       " ('id_str', '1282484990459080705'),\n",
       " ('text',\n",
       "  'Indigenous rights. LGBTQ. Racism. Climate change. Orange Man Bad. https://t.co/eOouenEsqf'),\n",
       " ('truncated', False)]"
      ]
     },
     "execution_count": 13,
     "metadata": {},
     "output_type": "execute_result"
    }
   ],
   "source": [
    "xx=[]\n",
    "\n",
    "j=tweet_val_parse(idx_vals)[1]['10']\n",
    "i=idx_keys_sep['10']\n",
    "\n",
    "list(zip(i,j))[:5]\n",
    "# tweet_val_parse(idx_vals)[1]['10']"
   ]
  },
  {
   "cell_type": "markdown",
   "metadata": {},
   "source": [
    "# Create: Key : value pairs of nested entries\n",
    "\n",
    "+ each entry represents a persons retweet info of the nested list"
   ]
  },
  {
   "cell_type": "code",
   "execution_count": 14,
   "metadata": {},
   "outputs": [
    {
     "data": {
      "text/plain": [
       "[('created_at', 'Sat Jul 11 18:55:25 +0000 2020'),\n",
       " ('id', 1282025722664517632),\n",
       " ('id_str', '1282025722664517632')]"
      ]
     },
     "execution_count": 14,
     "metadata": {},
     "output_type": "execute_result"
    }
   ],
   "source": [
    "# keys_=idx_keys_sep.keys()\n",
    "keys_=dict_lst(idx_keys).keys()\n",
    "\n",
    "wow=[]\n",
    "for ii in keys_:\n",
    "    wow.append(list(zip(idx_keys_sep[ii],tweet_val_parse(idx_vals)[1][ii])))\n",
    "wow[1][:3]"
   ]
  },
  {
   "cell_type": "code",
   "execution_count": 15,
   "metadata": {},
   "outputs": [
    {
     "data": {
      "text/plain": [
       "[('00', 'Nothing_retweeted'),\n",
       " ('20', 'Nothing_retweeted'),\n",
       " ('30', 'Nothing_retweeted'),\n",
       " ('70', 'Nothing_retweeted'),\n",
       " ('150', 'Nothing_retweeted'),\n",
       " ('160', 'Nothing_retweeted'),\n",
       " ('190', 'Nothing_retweeted'),\n",
       " ('200', 'Nothing_retweeted'),\n",
       " ('220', 'Nothing_retweeted'),\n",
       " ('350', 'Nothing_retweeted'),\n",
       " ('360', 'Nothing_retweeted'),\n",
       " ('420', 'Nothing_retweeted'),\n",
       " ('440', 'Nothing_retweeted')]"
      ]
     },
     "execution_count": 15,
     "metadata": {},
     "output_type": "execute_result"
    }
   ],
   "source": [
    "# Grab Index and make new string(No_retweet)\n",
    "\n",
    "notweet=[]\n",
    "for i in range(len(json_tweets.loc[:,'retweeted_status'])):\n",
    "    if str(json_tweets.loc[:,'retweeted_status'][i]) == 'nan':\n",
    "        notweet.append((str(i)+'0','Nothing_retweeted'))\n",
    "notweet"
   ]
  },
  {
   "cell_type": "markdown",
   "metadata": {},
   "source": [
    "# Need to add the entries with correct index that were not retweeted.\n",
    "\n",
    "+ you have 2 lists of tuples, why not append them together: no need to iterate.\n",
    "\n",
    "+ Then we will sort by our keys"
   ]
  },
  {
   "cell_type": "code",
   "execution_count": 16,
   "metadata": {},
   "outputs": [],
   "source": [
    "\n",
    "with_retwt=list(zip(keys_,wow))\n",
    "with_retwt.extend(notweet)\n",
    "# with_retwt"
   ]
  },
  {
   "cell_type": "markdown",
   "metadata": {},
   "source": [
    "# Sort by Keys for our tuples:"
   ]
  },
  {
   "cell_type": "code",
   "execution_count": 17,
   "metadata": {},
   "outputs": [],
   "source": [
    "# I did not make this function got online:\n",
    "def Sort_Tuple(tup):  \n",
    "  \n",
    "    # reverse = None (Sorts in Ascending order)  \n",
    "    # key is set to sort using second element of  \n",
    "    # sublist lambda has been used  \n",
    "    tup.sort(key = lambda x: x[0])  \n",
    "    return tup\n",
    "\n",
    "# Sort_Tuple(with_retwt)\n"
   ]
  },
  {
   "cell_type": "markdown",
   "metadata": {},
   "source": [
    "# Up to you to finish this anyway you want:\n"
   ]
  },
  {
   "cell_type": "code",
   "execution_count": 18,
   "metadata": {},
   "outputs": [
    {
     "data": {
      "text/html": [
       "<div>\n",
       "<style scoped>\n",
       "    .dataframe tbody tr th:only-of-type {\n",
       "        vertical-align: middle;\n",
       "    }\n",
       "\n",
       "    .dataframe tbody tr th {\n",
       "        vertical-align: top;\n",
       "    }\n",
       "\n",
       "    .dataframe thead th {\n",
       "        text-align: right;\n",
       "    }\n",
       "</style>\n",
       "<table border=\"1\" class=\"dataframe\">\n",
       "  <thead>\n",
       "    <tr style=\"text-align: right;\">\n",
       "      <th></th>\n",
       "      <th>0</th>\n",
       "      <th>1</th>\n",
       "    </tr>\n",
       "  </thead>\n",
       "  <tbody>\n",
       "    <tr>\n",
       "      <th>0</th>\n",
       "      <td>00</td>\n",
       "      <td>Nothing_retweeted</td>\n",
       "    </tr>\n",
       "    <tr>\n",
       "      <th>1</th>\n",
       "      <td>10</td>\n",
       "      <td>[(created_at, Mon Jul 13 01:20:23 +0000 2020),...</td>\n",
       "    </tr>\n",
       "    <tr>\n",
       "      <th>2</th>\n",
       "      <td>100</td>\n",
       "      <td>[(created_at, Sun Jul 12 15:48:20 +0000 2020),...</td>\n",
       "    </tr>\n",
       "    <tr>\n",
       "      <th>3</th>\n",
       "      <td>110</td>\n",
       "      <td>[(created_at, Mon Jul 13 00:37:16 +0000 2020),...</td>\n",
       "    </tr>\n",
       "    <tr>\n",
       "      <th>4</th>\n",
       "      <td>120</td>\n",
       "      <td>[(created_at, Mon Jul 13 00:59:00 +0000 2020),...</td>\n",
       "    </tr>\n",
       "  </tbody>\n",
       "</table>\n",
       "</div>"
      ],
      "text/plain": [
       "     0                                                  1\n",
       "0   00                                  Nothing_retweeted\n",
       "1   10  [(created_at, Mon Jul 13 01:20:23 +0000 2020),...\n",
       "2  100  [(created_at, Sun Jul 12 15:48:20 +0000 2020),...\n",
       "3  110  [(created_at, Mon Jul 13 00:37:16 +0000 2020),...\n",
       "4  120  [(created_at, Mon Jul 13 00:59:00 +0000 2020),..."
      ]
     },
     "execution_count": 18,
     "metadata": {},
     "output_type": "execute_result"
    }
   ],
   "source": [
    "pd.DataFrame(Sort_Tuple(with_retwt)).head()\n"
   ]
  },
  {
   "cell_type": "code",
   "execution_count": 19,
   "metadata": {},
   "outputs": [],
   "source": [
    "# dict(Sort_Tuple(with_retwt))\n",
    "dct\n",
    "data=dict(Sort_Tuple(with_retwt))\n",
    "y=[]\n",
    "keys=sorted(data.keys(), key=lambda x: int(x))\n",
    "\n",
    "keys_=['retweeted']*len(keys)\n"
   ]
  },
  {
   "cell_type": "code",
   "execution_count": 20,
   "metadata": {},
   "outputs": [],
   "source": [
    "import json\n",
    "# json.dumps(dict(Sort_Tuple(with_retwt)),'nested_tweets.json')\n",
    "\n",
    "# data=dict(Sort_Tuple(with_retwt))\n",
    "data=list(zip(keys_,dct))\n",
    "# with open(\"nested_tweets03.json\", \"w\") as write_file:\n",
    "#     json.dump(data, write_file)\n",
    "from collections import defaultdict\n",
    "\n",
    "data_dict = defaultdict(list)\n",
    "\n",
    "# for i in data:\n",
    "#     data_dict[i[0]].append(i[1])\n",
    "# data_dict\n",
    "# # with open(\"nested_tweets03.json\", \"w\") as write_file:\n",
    "#     json.dump(data_dict, write_file)\n",
    "# json.dumps(data,sort_keys=True)\n",
    "\n",
    "r=[]\n",
    "for i in data:\n",
    "    r.append({i[0]:i[1]})\n",
    "with open(\"nested_tweets03.json\", \"w\") as write_file:\n",
    "    json.dump(r, write_file)\n",
    "\n"
   ]
  },
  {
   "cell_type": "markdown",
   "metadata": {},
   "source": [
    "# <font color=red>LIKE</font> Share &\n",
    "\n",
    "# <font color=red>SUB</font>scribe"
   ]
  },
  {
   "cell_type": "markdown",
   "metadata": {},
   "source": [
    "# Citations & Help:\n",
    "\n",
    "# ◔̯◔\n",
    "\n",
    "https://hackersandslackers.com/extract-data-from-complex-json-python/ (this is FUNNY)\n",
    "\n",
    "https://medium.com/@rakyll/things-i-wished-more-developers-knew-about-databases-2d0178464f78 (useful all around knowledge)\n",
    "\n",
    "https://developer.twitter.com/en/docs/tweets/data-dictionary/overview/tweet-object (looking at what is inside of a Tweet)\n",
    "\n",
    "https://stackoverflow.com/questions/10756427/loop-through-all-nested-dictionary-values\n",
    "\n",
    "https://stackoverflow.com/questions/8335096/iterate-over-nested-dictionary\n",
    "\n",
    "https://realpython.com/python-thinking-recursively/\n",
    "\n",
    "https://www.saltycrane.com/blog/2011/10/some-more-python-recursion-examples/\n",
    "\n",
    "https://www.geeksforgeeks.org/python-program-to-sort-a-list-of-tuples-by-second-item/"
   ]
  }
 ],
 "metadata": {
  "kernelspec": {
   "display_name": "Python 3",
   "language": "python",
   "name": "python3"
  },
  "language_info": {
   "codemirror_mode": {
    "name": "ipython",
    "version": 3
   },
   "file_extension": ".py",
   "mimetype": "text/x-python",
   "name": "python",
   "nbconvert_exporter": "python",
   "pygments_lexer": "ipython3",
   "version": "3.7.3"
  }
 },
 "nbformat": 4,
 "nbformat_minor": 4
}
